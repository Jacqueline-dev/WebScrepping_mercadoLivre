{
 "cells": [
  {
   "cell_type": "markdown",
   "metadata": {},
   "source": [
    " # Extração de dados com Web Crawle\n",
    " ## Dados da página de ofertas do Mercado livre\n"
   ]
  },
  {
   "cell_type": "code",
   "execution_count": null,
   "metadata": {},
   "outputs": [],
   "source": [
    "import requests\n",
    "import pandas as pd\n",
    "from bs4 import BeautifulSoup\n",
    "from datetime import datetime\n"
   ]
  },
  {
   "cell_type": "code",
   "execution_count": null,
   "metadata": {},
   "outputs": [],
   "source": [
    "pip install BeautifulSoup4"
   ]
  },
  {
   "cell_type": "code",
   "execution_count": 149,
   "metadata": {},
   "outputs": [],
   "source": [
    "URL = \"https://www.mercadolivre.com.br/ofertas?promotion_type=lightning&container_id=MLB779362-1&page=\"\n",
    "\n",
    "data = requests.get(URL).text"
   ]
  },
  {
   "cell_type": "code",
   "execution_count": 150,
   "metadata": {},
   "outputs": [],
   "source": [
    "with open ('mercadolivreoferdia.html', 'w', encoding='utf-8') as f:\n",
    "  f.write(data)"
   ]
  },
  {
   "cell_type": "code",
   "execution_count": 151,
   "metadata": {},
   "outputs": [],
   "source": [
    "# returns the title of products in tags\n",
    "def get_items_title(doc):\n",
    "    title_tags = doc.find_all('p', class_='promotion-item_title')\n",
    "    titles = []\n",
    "    for tags in title_tags:\n",
    "        titles.append(tags.text)\n",
    "    \n",
    "    return titles"
   ]
  },
  {
   "cell_type": "code",
   "execution_count": 152,
   "metadata": {},
   "outputs": [],
   "source": [
    "# returns the price of the products\n",
    "def get_items_price(doc):\n",
    "    price_tags = doc.find_all('p', class_='promotion-item_price')\n",
    "    price = []\n",
    "    for tags in price_tags:\n",
    "        prices.append(tags.text.replace('Â',''))\n",
    "    \n",
    "    return price"
   ]
  },
  {
   "cell_type": "code",
   "execution_count": 153,
   "metadata": {},
   "outputs": [],
   "source": [
    "def get_doc(url):\n",
    "    response = requests.get(url)\n",
    "    doc = BeautifulSoup (response.text,'html.parser')\n",
    "    if response.status_code != 200:\n",
    "        raise Exception('Failed to load page {}'.format(response))\n",
    "    \n",
    "    return doc\n"
   ]
  },
  {
   "cell_type": "code",
   "execution_count": 154,
   "metadata": {},
   "outputs": [],
   "source": [
    "def scrape_multiple_pages(n):\n",
    "    titles, prices = [], []\n",
    "    \n",
    "    for page in range(1, n+1):\n",
    "        doc = get_doc(URL + str(page))\n",
    "        titles.extend(get_items_title(doc))\n",
    "        prices.extend(get_items_price(doc))\n",
    "    \n",
    "    items = {\n",
    "        'TITLE' : titles,\n",
    "        'PRICE' : prices\n",
    "    }\n",
    "    \n",
    "    return pd.DataFrame(items)"
   ]
  },
  {
   "cell_type": "code",
   "execution_count": 155,
   "metadata": {},
   "outputs": [
    {
     "data": {
      "text/html": [
       "<div>\n",
       "<style scoped>\n",
       "    .dataframe tbody tr th:only-of-type {\n",
       "        vertical-align: middle;\n",
       "    }\n",
       "\n",
       "    .dataframe tbody tr th {\n",
       "        vertical-align: top;\n",
       "    }\n",
       "\n",
       "    .dataframe thead th {\n",
       "        text-align: right;\n",
       "    }\n",
       "</style>\n",
       "<table border=\"1\" class=\"dataframe\">\n",
       "  <thead>\n",
       "    <tr style=\"text-align: right;\">\n",
       "      <th></th>\n",
       "      <th>TITLE</th>\n",
       "      <th>PRICE</th>\n",
       "    </tr>\n",
       "  </thead>\n",
       "  <tbody>\n",
       "  </tbody>\n",
       "</table>\n",
       "</div>"
      ],
      "text/plain": [
       "Empty DataFrame\n",
       "Columns: [TITLE, PRICE]\n",
       "Index: []"
      ]
     },
     "execution_count": 155,
     "metadata": {},
     "output_type": "execute_result"
    }
   ],
   "source": [
    "df_mercado_livre_ofer_dia= scrape_multiple_pages(10)\n",
    "\n",
    "df_mercado_livre_ofer_dia.head()"
   ]
  },
  {
   "cell_type": "code",
   "execution_count": null,
   "metadata": {},
   "outputs": [],
   "source": [
    "df_mercado_livre_ofer_dia = scrape_multiple_pages(10)\n",
    "df_mercado_livre_ofer_dia [\"SCRAPY_DATETIME\"] = datetime.now().strftime('%Y-%m-%d %H:%M:%S')\n",
    "df_mercado_livre_ofer_dia ['PRICE'] = df_mercado_livre_ofer_dia['PRICE'].str.extractall(r'(\\d+[\\.,]?\\d*)')\n",
    "df_mercado_livre_ofer_dia"
   ]
  },
  {
   "cell_type": "code",
   "execution_count": null,
   "metadata": {},
   "outputs": [],
   "source": [
    "df_mercado_livre_ofer_dia.to_csv('ofertas_mercado_livre_dia.csv')"
   ]
  }
 ],
 "metadata": {
  "kernelspec": {
   "display_name": "Python 3",
   "language": "python",
   "name": "python3"
  },
  "language_info": {
   "codemirror_mode": {
    "name": "ipython",
    "version": 3
   },
   "file_extension": ".py",
   "mimetype": "text/x-python",
   "name": "python",
   "nbconvert_exporter": "python",
   "pygments_lexer": "ipython3",
   "version": "3.11.4"
  }
 },
 "nbformat": 4,
 "nbformat_minor": 2
}
